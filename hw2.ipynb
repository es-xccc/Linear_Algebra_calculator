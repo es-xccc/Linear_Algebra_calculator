{
  "nbformat": 4,
  "nbformat_minor": 0,
  "metadata": {
    "colab": {
      "name": "「LA_hw2.ipynb」的副本",
      "provenance": [],
      "collapsed_sections": []
    },
    "kernelspec": {
      "name": "python3",
      "display_name": "Python 3"
    },
    "language_info": {
      "name": "python"
    }
  },
  "cells": [
    {
      "cell_type": "markdown",
      "source": [
        "1. Import numpy"
      ],
      "metadata": {
        "id": "FYCOO9dOiO7r"
      }
    },
    {
      "cell_type": "code",
      "execution_count": 5,
      "metadata": {
        "id": "rY9cfRm3iIo7"
      },
      "outputs": [],
      "source": [
        "import numpy as np"
      ]
    },
    {
      "cell_type": "markdown",
      "source": [
        "2. 印出numpy的版本"
      ],
      "metadata": {
        "id": "4qscHOniiaAT"
      }
    },
    {
      "cell_type": "code",
      "source": [
        "print(np.__version__)"
      ],
      "metadata": {
        "colab": {
          "base_uri": "https://localhost:8080/"
        },
        "id": "iUjdSceMiSc8",
        "outputId": "e976daf2-2d21-4b66-8fa0-1356c89523a7"
      },
      "execution_count": null,
      "outputs": [
        {
          "output_type": "stream",
          "name": "stdout",
          "text": [
            "1.21.6\n"
          ]
        }
      ]
    },
    {
      "cell_type": "markdown",
      "source": [
        "3. 建立10*5的矩陣，矩陣內的數字皆為0 (5%)\n",
        "*italicized text*"
      ],
      "metadata": {
        "id": "OiBkrVMvijT4"
      }
    },
    {
      "cell_type": "code",
      "source": [
        "#印出來的答案應該如下"
      ],
      "metadata": {
        "id": "TwAdUorwiiGk"
      },
      "execution_count": null,
      "outputs": []
    },
    {
      "cell_type": "code",
      "source": [
        "#輪到你試試看\n",
        "A = np.array([\n",
        "        [0, 0, 0, 0, 0],\n",
        "        [0, 0, 0, 0, 0],\n",
        "        [0, 0, 0, 0, 0],\n",
        "        [0, 0, 0, 0, 0],\n",
        "        [0, 0, 0, 0, 0],\n",
        "        [0, 0, 0, 0, 0],\n",
        "        [0, 0, 0, 0, 0],\n",
        "        [0, 0, 0, 0, 0],\n",
        "        [0, 0, 0, 0, 0],\n",
        "        [0, 0, 0, 0, 0]\n",
        "    ])\n",
        "print(A)"
      ],
      "metadata": {
        "id": "NQHFrddmictr",
        "colab": {
          "base_uri": "https://localhost:8080/"
        },
        "outputId": "088e77a1-e41a-4400-caea-2f8e8e612b09"
      },
      "execution_count": null,
      "outputs": [
        {
          "output_type": "stream",
          "name": "stdout",
          "text": [
            "[[0 0 0 0 0]\n",
            " [0 0 0 0 0]\n",
            " [0 0 0 0 0]\n",
            " [0 0 0 0 0]\n",
            " [0 0 0 0 0]\n",
            " [0 0 0 0 0]\n",
            " [0 0 0 0 0]\n",
            " [0 0 0 0 0]\n",
            " [0 0 0 0 0]\n",
            " [0 0 0 0 0]]\n"
          ]
        }
      ]
    },
    {
      "cell_type": "markdown",
      "source": [
        "4.建立一個如下的矩陣:\n",
        "[[0 1 2]\n",
        " [3 4 5]\n",
        " [6 7 8]]\n",
        " (5%)"
      ],
      "metadata": {
        "id": "WAmEwmATkKCu"
      }
    },
    {
      "cell_type": "code",
      "source": [
        "#印出來的答案應該如下"
      ],
      "metadata": {
        "colab": {
          "base_uri": "https://localhost:8080/"
        },
        "id": "Yuts96uukJS4",
        "outputId": "2cea15f2-8586-451b-f8f6-9b4b0c2e66de"
      },
      "execution_count": null,
      "outputs": [
        {
          "output_type": "stream",
          "name": "stdout",
          "text": [
            "[[0 1 2]\n",
            " [3 4 5]\n",
            " [6 7 8]]\n"
          ]
        }
      ]
    },
    {
      "cell_type": "code",
      "source": [
        "#輪到你試試看\n",
        "A = np.array([\n",
        "        [0, 1, 2],\n",
        "        [3, 4, 5],\n",
        "        [6, 7, 8]\n",
        "    ])\n",
        "print(A)"
      ],
      "metadata": {
        "id": "Ed8-ufgtkJVo",
        "colab": {
          "base_uri": "https://localhost:8080/"
        },
        "outputId": "c3cda21d-f15e-4ea4-cf24-5ff8c0e16401"
      },
      "execution_count": null,
      "outputs": [
        {
          "output_type": "stream",
          "name": "stdout",
          "text": [
            "[[0 1 2]\n",
            " [3 4 5]\n",
            " [6 7 8]]\n"
          ]
        }
      ]
    },
    {
      "cell_type": "markdown",
      "source": [
        "5.建立一個5*5的單位矩陣 (5%)"
      ],
      "metadata": {
        "id": "OlUoy5hqk_nh"
      }
    },
    {
      "cell_type": "code",
      "source": [
        "#印出來的答案應該如下"
      ],
      "metadata": {
        "colab": {
          "base_uri": "https://localhost:8080/"
        },
        "id": "MJAVNbc7lA1W",
        "outputId": "8106f585-cc77-471d-a343-b73baa973801"
      },
      "execution_count": null,
      "outputs": [
        {
          "output_type": "stream",
          "name": "stdout",
          "text": [
            "[[1. 0. 0. 0. 0.]\n",
            " [0. 1. 0. 0. 0.]\n",
            " [0. 0. 1. 0. 0.]\n",
            " [0. 0. 0. 1. 0.]\n",
            " [0. 0. 0. 0. 1.]]\n"
          ]
        }
      ]
    },
    {
      "cell_type": "code",
      "source": [
        "#輪到你試試看\n",
        "A = np.array([\n",
        "        [1, 0, 0, 0, 0],\n",
        "        [0, 1, 0, 0, 0],\n",
        "        [0, 0, 1, 0, 0],\n",
        "        [0, 0, 0, 1, 0],\n",
        "        [0, 0, 0, 0, 1]\n",
        "    ])\n",
        "print(A)"
      ],
      "metadata": {
        "id": "bxwsrpP4lAdZ",
        "colab": {
          "base_uri": "https://localhost:8080/"
        },
        "outputId": "c3a845de-f8ee-40aa-b920-f8d81ae1a919"
      },
      "execution_count": null,
      "outputs": [
        {
          "output_type": "stream",
          "name": "stdout",
          "text": [
            "[[1 0 0 0 0]\n",
            " [0 1 0 0 0]\n",
            " [0 0 1 0 0]\n",
            " [0 0 0 1 0]\n",
            " [0 0 0 0 1]]\n"
          ]
        }
      ]
    },
    {
      "cell_type": "markdown",
      "source": [
        "6. 做5x4與4*x3矩陣的相乘 (5%)\n"
      ],
      "metadata": {
        "id": "lJ2IY_eQlnBf"
      }
    },
    {
      "cell_type": "code",
      "source": [
        "#印出來的答案可能如下"
      ],
      "metadata": {
        "colab": {
          "base_uri": "https://localhost:8080/"
        },
        "id": "Ha3x3Rnal6LX",
        "outputId": "d619ba38-a689-447d-8005-f83d7d4505eb"
      },
      "execution_count": null,
      "outputs": [
        {
          "output_type": "stream",
          "name": "stdout",
          "text": [
            "[[4. 4. 4.]\n",
            " [4. 4. 4.]\n",
            " [4. 4. 4.]\n",
            " [4. 4. 4.]\n",
            " [4. 4. 4.]]\n"
          ]
        }
      ]
    },
    {
      "cell_type": "code",
      "source": [
        "#輪到你試試看\n",
        "A = np.array([\n",
        "        [1, 0, 0, 0],\n",
        "        [0, 1, 0, 0],\n",
        "        [0, 0, 1, 0],\n",
        "        [0, 0, 0, 1],\n",
        "        [0, 0, 0, 0]\n",
        "    ])\n",
        "B = np.array([\n",
        "        [1, 0, 0],\n",
        "        [0, 1, 0],\n",
        "        [0, 0, 1],\n",
        "        [0, 0, 0]\n",
        "    ])\n",
        "print(A.dot(B))"
      ],
      "metadata": {
        "id": "LuZEiGSnM3oD",
        "colab": {
          "base_uri": "https://localhost:8080/"
        },
        "outputId": "bd9213f5-9cc9-4f16-e441-4cd53258c107"
      },
      "execution_count": null,
      "outputs": [
        {
          "output_type": "stream",
          "name": "stdout",
          "text": [
            "[[1 0 0]\n",
            " [0 1 0]\n",
            " [0 0 1]\n",
            " [0 0 0]\n",
            " [0 0 0]]\n"
          ]
        }
      ]
    },
    {
      "cell_type": "markdown",
      "source": [
        "7. 設a為[[1, 0], [1, 2]]的一個矩陣，算出矩陣的determinant (5%)\n"
      ],
      "metadata": {
        "id": "SrIx8zBPA6dn"
      }
    },
    {
      "cell_type": "code",
      "source": [
        "#印出來的答案如下"
      ],
      "metadata": {
        "id": "OsM7xLQHqgDS"
      },
      "execution_count": null,
      "outputs": []
    },
    {
      "cell_type": "code",
      "source": [
        "import numpy as np\n",
        "from numpy import linalg as LA\n",
        "a = np.array([[1, 0], [1, 2]])\n",
        "det=LA.det(a)\n",
        "print(\"Determinant of the said 2-D array:\")\n",
        "print(det)"
      ],
      "metadata": {
        "id": "6duhdcJJN2Ge",
        "colab": {
          "base_uri": "https://localhost:8080/"
        },
        "outputId": "8d378eeb-8f1e-43c5-d0fd-63453949c0a6"
      },
      "execution_count": null,
      "outputs": [
        {
          "output_type": "stream",
          "name": "stdout",
          "text": [
            "Determinant of the said 2-D array:\n",
            "2.0\n"
          ]
        }
      ]
    },
    {
      "cell_type": "markdown",
      "source": [
        "8. 得出inverse矩陣 (5%)"
      ],
      "metadata": {
        "id": "Aq9Z8e87CIqC"
      }
    },
    {
      "cell_type": "code",
      "source": [
        "import numpy as np\n",
        "m = np.array([\n",
        "        [1, 2, 3],\n",
        "        [5, 8, 9],\n",
        "        [5, 8, 8],\n",
        "    ])\n",
        "result = np.linalg.inv(m) \n",
        "print(\"Original matrix:\")\n",
        "print(m)\n",
        "print(\"Inverse of the said matrix:\")\n",
        "print(result)"
      ],
      "metadata": {
        "id": "NNXoG_QWCDA0",
        "colab": {
          "base_uri": "https://localhost:8080/"
        },
        "outputId": "a0acd894-f0ce-4e85-dfcb-fc4695268a33"
      },
      "execution_count": null,
      "outputs": [
        {
          "output_type": "stream",
          "name": "stdout",
          "text": [
            "Original matrix:\n",
            "[[1 2 3]\n",
            " [5 8 9]\n",
            " [5 8 8]]\n",
            "Inverse of the said matrix:\n",
            "[[-4.   4.  -3. ]\n",
            " [ 2.5 -3.5  3. ]\n",
            " [-0.   1.  -1. ]]\n"
          ]
        }
      ]
    },
    {
      "cell_type": "code",
      "source": [
        "#印出來的參考答案如下"
      ],
      "metadata": {
        "id": "MGkbuch5BjRh"
      },
      "execution_count": null,
      "outputs": []
    },
    {
      "cell_type": "markdown",
      "source": [
        "9. Row operations and elimination (15%)"
      ],
      "metadata": {
        "id": "NfSksYaWHPkN"
      }
    },
    {
      "cell_type": "code",
      "source": [
        "#不需編撰此處code\n",
        "def RowSwap(A,k,l):\n",
        "# =============================================================================\n",
        "#     A is a NumPy array.  RowSwap will return duplicate array with rows\n",
        "#     k and l swapped.\n",
        "# =============================================================================\n",
        "    m = A.shape[0]  # m is number of rows in A\n",
        "    n = A.shape[1]  # n is number of columns in A\n",
        "    \n",
        "    B = np.copy(A).astype('float64')\n",
        "        \n",
        "    for j in range(n):\n",
        "        temp = B[k][j]\n",
        "        B[k][j] = B[l][j]\n",
        "        B[l][j] = temp\n",
        "        \n",
        "    return B\n",
        "\n",
        "def RowScale(A,k,scale):\n",
        "# =============================================================================\n",
        "#     A is a NumPy array.  RowScale will return duplicate array with the\n",
        "#     entries of row k multiplied by scale.\n",
        "# =============================================================================\n",
        "    m = A.shape[0]  # m is number of rows in A\n",
        "    n = A.shape[1]  # n is number of columns in A\n",
        "    \n",
        "    B = np.copy(A).astype('float64')\n",
        "\n",
        "    for j in range(n):\n",
        "        B[k][j] *= scale\n",
        "        \n",
        "    return B\n",
        "\n",
        "def RowAdd(A,k,l,scale):\n",
        "# =============================================================================\n",
        "#     A is a numpy array.  RowAdd will return duplicate array with row\n",
        "#     l modifed.  The new values will be the old values of row l added to \n",
        "#     the values of row k, multiplied by scale.\n",
        "# =============================================================================\n",
        "    m = A.shape[0]  # m is number of rows in A\n",
        "    n = A.shape[1]  # n is number of columns in A\n",
        "    \n",
        "    B = np.copy(A).astype('float64')\n",
        "        \n",
        "    for j in range(n):\n",
        "        B[l][j] += B[k][j]*scale\n",
        "        \n",
        "    return B  "
      ],
      "metadata": {
        "id": "2HXjQNw5HQ_S"
      },
      "execution_count": 2,
      "outputs": []
    },
    {
      "cell_type": "code",
      "source": [
        "G=np.array([[1,-1,1,3],[2,-2,4,8],[3,0,-9,0]])\n",
        "print(G)\n",
        "## Add -2 times row 0 to row 1\n",
        "G1 = RowAdd(G,1,0,-2)\n",
        "## Add -3 times row 0 to row 2\n",
        "G2 = RowAdd(G1,2,0,-2)\n",
        "## Swap rows 1 and 2\n",
        "G3 = RowSwap(G2,1,2)\n",
        "## Scale the new row 1 by 1/3\n",
        "G4 = RowScale(G3,1,1/3)\n",
        "## Scale the new row 2 by 1/2\n",
        "G5 = RowScale(G4,2,1/2)\n",
        "print(G5)"
      ],
      "metadata": {
        "id": "efpfhd1kHatI",
        "colab": {
          "base_uri": "https://localhost:8080/",
          "height": 239
        },
        "outputId": "bb0c5780-e007-46e1-fd42-f4e4f61044b6"
      },
      "execution_count": 4,
      "outputs": [
        {
          "output_type": "error",
          "ename": "NameError",
          "evalue": "ignored",
          "traceback": [
            "\u001b[0;31m---------------------------------------------------------------------------\u001b[0m",
            "\u001b[0;31mNameError\u001b[0m                                 Traceback (most recent call last)",
            "\u001b[0;32m<ipython-input-4-4f79bd347813>\u001b[0m in \u001b[0;36m<module>\u001b[0;34m()\u001b[0m\n\u001b[0;32m----> 1\u001b[0;31m \u001b[0mG\u001b[0m\u001b[0;34m=\u001b[0m\u001b[0mnp\u001b[0m\u001b[0;34m.\u001b[0m\u001b[0marray\u001b[0m\u001b[0;34m(\u001b[0m\u001b[0;34m[\u001b[0m\u001b[0;34m[\u001b[0m\u001b[0;36m1\u001b[0m\u001b[0;34m,\u001b[0m\u001b[0;34m-\u001b[0m\u001b[0;36m1\u001b[0m\u001b[0;34m,\u001b[0m\u001b[0;36m1\u001b[0m\u001b[0;34m,\u001b[0m\u001b[0;36m3\u001b[0m\u001b[0;34m]\u001b[0m\u001b[0;34m,\u001b[0m\u001b[0;34m[\u001b[0m\u001b[0;36m2\u001b[0m\u001b[0;34m,\u001b[0m\u001b[0;34m-\u001b[0m\u001b[0;36m2\u001b[0m\u001b[0;34m,\u001b[0m\u001b[0;36m4\u001b[0m\u001b[0;34m,\u001b[0m\u001b[0;36m8\u001b[0m\u001b[0;34m]\u001b[0m\u001b[0;34m,\u001b[0m\u001b[0;34m[\u001b[0m\u001b[0;36m3\u001b[0m\u001b[0;34m,\u001b[0m\u001b[0;36m0\u001b[0m\u001b[0;34m,\u001b[0m\u001b[0;34m-\u001b[0m\u001b[0;36m9\u001b[0m\u001b[0;34m,\u001b[0m\u001b[0;36m0\u001b[0m\u001b[0;34m]\u001b[0m\u001b[0;34m]\u001b[0m\u001b[0;34m)\u001b[0m\u001b[0;34m\u001b[0m\u001b[0;34m\u001b[0m\u001b[0m\n\u001b[0m\u001b[1;32m      2\u001b[0m \u001b[0mprint\u001b[0m\u001b[0;34m(\u001b[0m\u001b[0mG\u001b[0m\u001b[0;34m)\u001b[0m\u001b[0;34m\u001b[0m\u001b[0;34m\u001b[0m\u001b[0m\n\u001b[1;32m      3\u001b[0m \u001b[0;31m## Add -2 times row 0 to row 1\u001b[0m\u001b[0;34m\u001b[0m\u001b[0;34m\u001b[0m\u001b[0;34m\u001b[0m\u001b[0m\n\u001b[1;32m      4\u001b[0m \u001b[0mG1\u001b[0m \u001b[0;34m=\u001b[0m \u001b[0mRowAdd\u001b[0m\u001b[0;34m(\u001b[0m\u001b[0mG\u001b[0m\u001b[0;34m,\u001b[0m\u001b[0;36m1\u001b[0m\u001b[0;34m,\u001b[0m\u001b[0;36m0\u001b[0m\u001b[0;34m,\u001b[0m\u001b[0;34m-\u001b[0m\u001b[0;36m2\u001b[0m\u001b[0;34m)\u001b[0m\u001b[0;34m\u001b[0m\u001b[0;34m\u001b[0m\u001b[0m\n\u001b[1;32m      5\u001b[0m \u001b[0;31m## Add -3 times row 0 to row 2\u001b[0m\u001b[0;34m\u001b[0m\u001b[0;34m\u001b[0m\u001b[0;34m\u001b[0m\u001b[0m\n",
            "\u001b[0;31mNameError\u001b[0m: name 'np' is not defined"
          ]
        }
      ]
    },
    {
      "cell_type": "code",
      "source": [
        "#印出來的答案如下"
      ],
      "metadata": {
        "id": "H9Taql8IGj6m"
      },
      "execution_count": null,
      "outputs": []
    },
    {
      "cell_type": "markdown",
      "source": [
        ""
      ],
      "metadata": {
        "id": "IV8yaC9N360d"
      }
    },
    {
      "cell_type": "markdown",
      "source": [
        "10. Finding pivots (25%)"
      ],
      "metadata": {
        "id": "HCtzZyaAH5-l"
      }
    },
    {
      "cell_type": "code",
      "source": [
        "G=np.array([[1,-1,1,3],[2,-2,4,8],[3,0,-9,0]])\n",
        "#利用第九題的def來fill the code\n",
        "## Add -2 times row 0 to row 1\n",
        "G1 = RowAdd(G,0,1,-2)\n",
        "## Add -3 times row 0 to row 2\n",
        "G2 = RowAdd(G1,0,2,-3)\n",
        "## Swap rows 1 and 2\n",
        "G3 = RowSwap(G2,1,2)\n",
        "## Scale the new row 1 by 1/3\n",
        "G4 = RowScale(G3,1,1./3)\n",
        "## Scale the new row 2 by 1/2\n",
        "G5 = RowScale(G4,2,1./2)\n",
        "## Scale row 1 by 1/2\n",
        "G3_alternative = RowScale(G2,1,1./2)\n",
        "## Scale row 2 by 1/3\n",
        "G4_alternative = RowScale(G3_alternative,2,1./3)\n",
        "print(G4_alternative)"
      ],
      "metadata": {
        "id": "WjYH-60_H5W2",
        "colab": {
          "base_uri": "https://localhost:8080/"
        },
        "outputId": "383c2516-7690-4ded-9988-facecb1a4250"
      },
      "execution_count": 9,
      "outputs": [
        {
          "output_type": "stream",
          "name": "stdout",
          "text": [
            "[[ 1. -1.  1.  3.]\n",
            " [ 0.  0.  1.  1.]\n",
            " [ 0.  1. -4. -3.]]\n"
          ]
        }
      ]
    },
    {
      "cell_type": "code",
      "source": [
        "#印出來的答案如下"
      ],
      "metadata": {
        "id": "OwYh5UedIE0e"
      },
      "execution_count": null,
      "outputs": []
    },
    {
      "cell_type": "markdown",
      "source": [
        "11.找transpose (5%)"
      ],
      "metadata": {
        "id": "USfMG88hJLXP"
      }
    },
    {
      "cell_type": "code",
      "source": [
        "A = np.array([[5, 4, 2],[1, 9, 3],[6, 5, 2]])\n",
        "A_T = np.transpose(A)\n",
        "print(A_T)"
      ],
      "metadata": {
        "id": "eZRbJT0PJWMO",
        "colab": {
          "base_uri": "https://localhost:8080/"
        },
        "outputId": "d24f7f7d-b65e-44b7-c6b0-b3b5c2be2630"
      },
      "execution_count": null,
      "outputs": [
        {
          "output_type": "stream",
          "name": "stdout",
          "text": [
            "[[5 1 6]\n",
            " [4 9 5]\n",
            " [2 3 2]] 5\n"
          ]
        }
      ]
    },
    {
      "cell_type": "code",
      "source": [
        "#印出來的答案如下"
      ],
      "metadata": {
        "id": "2W5caMwaJQSH"
      },
      "execution_count": null,
      "outputs": []
    },
    {
      "cell_type": "markdown",
      "source": [
        "12. 取出特徵向量與特徵值 (5%)"
      ],
      "metadata": {
        "id": "_lwN0QCsEXwL"
      }
    },
    {
      "cell_type": "code",
      "source": [
        "import numpy as np\n",
        "from numpy.linalg import eig\n",
        "a = np.array([[1, 5], \n",
        "              [4, 2]])\n",
        "#complete the code by yourself\n",
        "(value, vector) = eig(a)\n",
        "print(\"E-value:\",value)\n",
        "print(\"E-vector:\",vector)"
      ],
      "metadata": {
        "id": "aJw_jh6eEhEp",
        "colab": {
          "base_uri": "https://localhost:8080/"
        },
        "outputId": "d96aa70f-cb65-47a1-8076-45619b9a0e1c"
      },
      "execution_count": null,
      "outputs": [
        {
          "output_type": "stream",
          "name": "stdout",
          "text": [
            "E-value: [-3.  6.]\n",
            "E-vector: [[-0.78086881 -0.70710678]\n",
            " [ 0.62469505 -0.70710678]]\n"
          ]
        }
      ]
    },
    {
      "cell_type": "code",
      "source": [
        "#印出來的答案如下"
      ],
      "metadata": {
        "id": "mU9IxIqOC21W"
      },
      "execution_count": null,
      "outputs": []
    },
    {
      "cell_type": "markdown",
      "source": [
        "13. 自己設計一題線性代數的題目，並用python實現 (20%，完成即13%、依題目複雜度給予給予剩下七分)"
      ],
      "metadata": {
        "id": "RwU_Pu4OLVKL"
      }
    },
    {
      "cell_type": "markdown",
      "source": [
        "Find the best least squares fit by a linear function 𝑦 = 𝑎𝑥 + 𝑏 for the \n",
        "following data: (-1, 0), (0, 1), (1, 3)"
      ],
      "metadata": {
        "id": "Lpub1H_xCuL2"
      }
    },
    {
      "cell_type": "code",
      "source": [
        "import numpy as np\n",
        "A=np.array([[-1,1],[0,1],[1,1]])\n",
        "B=np.array([[0],[1],[3]])\n",
        "X=np.linalg.inv(np.transpose(A).dot(A)).dot(np.transpose(A)).dot(B)\n",
        "print(\"y=\",X[0,0],\"x+\",X[1,0])"
      ],
      "metadata": {
        "id": "AbTMiMkmLnpo",
        "colab": {
          "base_uri": "https://localhost:8080/"
        },
        "outputId": "c3ea0871-f273-4a09-95be-0a137a94826c"
      },
      "execution_count": null,
      "outputs": [
        {
          "output_type": "stream",
          "name": "stdout",
          "text": [
            "y= 1.5 x+ 1.3333333333333333\n"
          ]
        }
      ]
    }
  ]
}