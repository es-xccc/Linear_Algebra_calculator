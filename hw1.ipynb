{
  "cells": [
    {
      "cell_type": "markdown",
      "metadata": {
        "id": "Pl7UfaR8K3XD"
      },
      "source": [
        "### 作業規定\n",
        "1. 請繳交運行成功的ipynb檔至moodle (file > download as Notebook)\n",
        "2. 需要同學自行寫code的部分會特別標示"
      ]
    },
    {
      "cell_type": "markdown",
      "metadata": {
        "id": "fm4Yud0YK3XG"
      },
      "source": [
        "# HW1-1 Identifying special matrices\n",
        "## Instructions\n",
        "在此作業中，你需要利用python來寫一個函數(def) 來測試 4×4 矩陣是否為 singular matrix,，即在計算逆矩陣之前確定是否存在逆矩陣。.\n",
        "\n",
        "### Matrices in Python\n",
        "在python中，為了減低運算的速度，我們會利用\"numpy\"來進行矩陣的運算，結構大致如:\n",
        "```python\n",
        "A[0, 0]  A[0, 1]  A[0, 2]  A[0, 3]\n",
        "A[1, 0]  A[1, 1]  A[1, 2]  A[1, 3]\n",
        "A[2, 0]  A[2, 1]  A[2, 2]  A[2, 3]\n",
        "A[3, 0]  A[3, 1]  A[3, 2]  A[3, 3]\n",
        "```\n",
        "你可以透過以下的寫法取出特定的值:\n",
        "```python\n",
        "A[n, m]\n",
        "```\n",
        "這將給出第 n 行和第 m 列（從零開始）的值。\n",
        "```python\n",
        "A[n]\n",
        "```\n",
        "這將給出第 n 行中所有的值。\n"
      ]
    },
    {
      "cell_type": "markdown",
      "source": [
        ""
      ],
      "metadata": {
        "id": "Kl6m5nLMjI2_"
      }
    },
    {
      "cell_type": "code",
      "execution_count": null,
      "metadata": {
        "collapsed": true,
        "id": "91Y6vAeOK3XI"
      },
      "outputs": [],
      "source": [
        "import numpy as np #首先要先import numpy\n",
        "\n",
        "def isSingular(A) : #定義一個用來判斷是否為singular matrix的函式\n",
        "    B = np.array(A, dtype=np.float_) # 將B定義為與A相同的矩陣，這樣可以使我們在判斷A時不會改變她的數值.\n",
        "    try:\n",
        "        fixRowZero(B)\n",
        "        fixRowOne(B)\n",
        "        fixRowTwo(B)\n",
        "        fixRowThree(B)\n",
        "    except MatrixIsSingular:\n",
        "        return True\n",
        "    return False\n",
        "\n",
        "# 定義 matrix 若是 singular要如何運行\n",
        "class MatrixIsSingular(Exception): pass\n",
        "\n",
        "# 對於第 0 行，我們只需要第一個元素等於 1。.\n",
        "# 我們將行除以 A[0, 0] 的值,若A[0, 0]的值為0、要在進行除法前與其他行相加，直到可以進行除法\n",
        "def fixRowZero(A) :\n",
        "    if A[0,0] == 0 :\n",
        "        A[0] = A[0] + A[1]\n",
        "    if A[0,0] == 0 :\n",
        "        A[0] = A[0] + A[2]\n",
        "    if A[0,0] == 0 :\n",
        "        A[0] = A[0] + A[3]\n",
        "    if A[0,0] == 0 :\n",
        "        raise MatrixIsSingular()\n",
        "    A[0] = A[0] / A[0,0]\n",
        "    return A\n",
        "\n",
        "#我們將次 sub-diagonal elements 設為零，即 A[1,0]，並使diagonal element等於1。.\n",
        "def fixRowOne(A) :\n",
        "    A[1] = A[1] - A[1,0] * A[0]\n",
        "    if A[1,1] == 0 :\n",
        "        A[1] = A[1] + A[2]\n",
        "        A[1] = A[1] - A[1,0] * A[0]\n",
        "    if A[1,1] == 0 :\n",
        "        A[1] = A[1] + A[3]\n",
        "        A[1] = A[1] - A[1,0] * A[0]\n",
        "    if A[1,1] == 0 :\n",
        "        raise MatrixIsSingular()\n",
        "    A[1] = A[1] / A[1,1]\n",
        "    return A\n",
        "\n",
        "#.\n",
        "def fixRowTwo(A) :\n",
        "    # Insert code below to set the sub-diagonal elements of row two to zero (there are two of them).\n",
        "    A[2] = A[2] - A[2,0] * A[0] # 幫你寫一行了，下一行想想看要怎麼寫(很類似)\n",
        "    A[2] = A[2] - A[2,1] * A[1]\n",
        "    # Next we'll test that the diagonal element is not zero.\n",
        "    if A[2,2] == 0 :\n",
        "        # Insert code below that adds a lower row to row 2.\n",
        "        A[2] = A[2] + A[3]\n",
        "        # Now repeat your code which sets the sub-diagonal elements to zero.\n",
        "        A[2] = A[2] - A[2,0] * A[0]\n",
        "        A[2] = A[2] - A[2,1] * A[1]\n",
        "        \n",
        "    if A[2,2] == 0 :\n",
        "        raise MatrixIsSingular()\n",
        "    # Finally set the diagonal element to one by dividing the whole row by that element.\n",
        "    A[2] = A[2] / A[2,2]\n",
        "    return A\n",
        "\n",
        "# You should also complete this function\n",
        "# Follow the instructions inside the function at each comment.\n",
        "def fixRowThree(A) :\n",
        "    # Insert code below to set the sub-diagonal elements of row three to zero.\n",
        "    A[3] = A[3] - A[3,0] * A[0]\n",
        "    A[3] = A[3] - A[3,1] * A[1]\n",
        "    A[3] = A[3] - A[3,2] * A[2]\n",
        "    \n",
        "    # Complete the if statement to test if the diagonal element is zero.\n",
        "    if A[3,3] == 0 :\n",
        "        raise MatrixIsSingular()\n",
        "    # Transform the row to set the diagonal element to one.\n",
        "    A[3] = A[3] / A[3,3]\n",
        "    return A"
      ]
    },
    {
      "cell_type": "markdown",
      "metadata": {
        "id": "QEWCEB8TK3XK"
      },
      "source": [
        "## Test your code before submission\n",
        "To test the code you've written above, run the cell (select the cell above, then press the play button [ ▶| ] or press shift-enter).\n",
        "You can then use the code below to test out your function.\n",
        "You don't need to submit this cell; you can edit and run it as much as you like.\n",
        "\n",
        "Try out your code on tricky test cases!"
      ]
    },
    {
      "cell_type": "code",
      "execution_count": null,
      "metadata": {
        "collapsed": true,
        "id": "_zIqqEimK3XL",
        "colab": {
          "base_uri": "https://localhost:8080/"
        },
        "outputId": "17b7ad5f-a7f5-4a2e-ba47-e69842120282"
      },
      "outputs": [
        {
          "output_type": "execute_result",
          "data": {
            "text/plain": [
              "True"
            ]
          },
          "metadata": {},
          "execution_count": 5
        }
      ],
      "source": [
        "A = np.array([\n",
        "        [2, 0, 0, 0],\n",
        "        [0, 3, 0, 0],\n",
        "        [0, 0, 4, 4],\n",
        "        [0, 0, 5, 5]\n",
        "    ], dtype=np.float_)\n",
        "isSingular(A)"
      ]
    },
    {
      "cell_type": "code",
      "execution_count": null,
      "metadata": {
        "collapsed": true,
        "id": "bFIHSJoWK3XM",
        "colab": {
          "base_uri": "https://localhost:8080/"
        },
        "outputId": "4b25bb76-3d41-42af-f791-b16af01afaa5"
      },
      "outputs": [
        {
          "output_type": "execute_result",
          "data": {
            "text/plain": [
              "array([[ 1. ,  7.5, -2.5,  3.5],\n",
              "       [ 2. ,  8. ,  0. ,  4. ],\n",
              "       [ 3. , 12. ,  0. ,  5. ],\n",
              "       [ 1. ,  3. ,  1. ,  3. ]])"
            ]
          },
          "metadata": {},
          "execution_count": 6
        }
      ],
      "source": [
        "A = np.array([\n",
        "        [0, 7, -5, 3],\n",
        "        [2, 8, 0, 4],\n",
        "        [3, 12, 0, 5],\n",
        "        [1, 3, 1, 3]\n",
        "    ], dtype=np.float_)\n",
        "fixRowZero(A)"
      ]
    },
    {
      "cell_type": "code",
      "execution_count": null,
      "metadata": {
        "collapsed": true,
        "id": "j8NWoMH-K3XM",
        "colab": {
          "base_uri": "https://localhost:8080/"
        },
        "outputId": "3cd2d29f-a57a-4670-e0a5-0be582d88918"
      },
      "outputs": [
        {
          "output_type": "execute_result",
          "data": {
            "text/plain": [
              "array([[ 1.        ,  7.5       , -2.5       ,  3.5       ],\n",
              "       [-0.        ,  1.        , -0.71428571,  0.42857143],\n",
              "       [ 3.        , 12.        ,  0.        ,  5.        ],\n",
              "       [ 1.        ,  3.        ,  1.        ,  3.        ]])"
            ]
          },
          "metadata": {},
          "execution_count": 7
        }
      ],
      "source": [
        "fixRowOne(A)"
      ]
    },
    {
      "cell_type": "code",
      "execution_count": null,
      "metadata": {
        "collapsed": true,
        "id": "j3IKmThAK3XN",
        "colab": {
          "base_uri": "https://localhost:8080/"
        },
        "outputId": "73a07e0f-ad21-45e0-b894-a93eba485c09"
      },
      "outputs": [
        {
          "output_type": "execute_result",
          "data": {
            "text/plain": [
              "array([[ 1.        ,  7.5       , -2.5       ,  3.5       ],\n",
              "       [-0.        ,  1.        , -0.71428571,  0.42857143],\n",
              "       [ 0.        ,  0.        ,  1.        ,  1.5       ],\n",
              "       [ 1.        ,  3.        ,  1.        ,  3.        ]])"
            ]
          },
          "metadata": {},
          "execution_count": 8
        }
      ],
      "source": [
        "fixRowTwo(A)"
      ]
    },
    {
      "cell_type": "code",
      "execution_count": null,
      "metadata": {
        "collapsed": true,
        "id": "Ue_yOmOqK3XO",
        "colab": {
          "base_uri": "https://localhost:8080/"
        },
        "outputId": "eb6ce49f-d39f-4dbe-ceda-b59ef43970e8"
      },
      "outputs": [
        {
          "output_type": "execute_result",
          "data": {
            "text/plain": [
              "array([[ 1.        ,  7.5       , -2.5       ,  3.5       ],\n",
              "       [-0.        ,  1.        , -0.71428571,  0.42857143],\n",
              "       [ 0.        ,  0.        ,  1.        ,  1.5       ],\n",
              "       [ 0.        ,  0.        ,  0.        ,  1.        ]])"
            ]
          },
          "metadata": {},
          "execution_count": 9
        }
      ],
      "source": [
        "fixRowThree(A)"
      ]
    },
    {
      "cell_type": "markdown",
      "metadata": {
        "id": "iqx3nZRzK3XP"
      },
      "source": [
        "# HW1-2 Gram-Schmidt process\n",
        "\n",
        "## Instructions\n",
        "在這個作業中，你將編寫一個函數來執行 Gram-Schmidt ，該過程採用向量列表並從該集合中形成 orthonormal basis form。\n",
        "The method allows us to determine the dimension of the space spanned by the basis vectors, which is equal to or less than the space which the vectors sit.\n",
        "\n",
        "### Matrices in Python\n",
        "Remember the structure for matrices in *numpy* is,\n",
        "```python\n",
        "A[0, 0]  A[0, 1]  A[0, 2]  A[0, 3]\n",
        "A[1, 0]  A[1, 1]  A[1, 2]  A[1, 3]\n",
        "A[2, 0]  A[2, 1]  A[2, 2]  A[2, 3]\n",
        "A[3, 0]  A[3, 1]  A[3, 2]  A[3, 3]\n",
        "```\n",
        "You can access the value of each element individually using,\n",
        "```python\n",
        "A[n, m]\n",
        "```\n",
        "You can also access a whole row at a time using,\n",
        "```python\n",
        "A[n]\n",
        "```\n",
        "\n",
        "Building on last assignment, in this exercise you will need to select whole columns at a time.\n",
        "This can be done with,\n",
        "```python\n",
        "A[:, m]\n",
        "```\n",
        "which will select the m'th column (starting at zero).\n",
        "\n",
        "In this exercise, you will need to take the dot product between vectors. This can be done using the @ operator.\n",
        "To dot product vectors u and v, use the code,\n",
        "```python\n",
        "u @ v\n",
        "```\n",
        "\n",
        "All the code you should complete will be at the same level of indentation as the instruction comment."
      ]
    },
    {
      "cell_type": "code",
      "execution_count": 2,
      "metadata": {
        "id": "E1B-3fDKK3XP"
      },
      "outputs": [],
      "source": [
        "import numpy as np\n",
        "import numpy.linalg as la\n",
        "\n",
        "verySmallNumber = 1e-14 # That's 1×10⁻¹⁴ = 0.00000000000001\n",
        "\n",
        "# Our first function will perform the Gram-Schmidt procedure for 4 basis vectors.\n",
        "# We'll take this list of vectors as the columns of a matrix, A.\n",
        "# We'll then go through the vectors one at a time and set them to be orthogonal\n",
        "# to all the vectors that came before it. Before normalising.\n",
        "\n",
        "def gsBasis4(A) :\n",
        "    B = np.array(A, dtype=np.float_) # Make B as a copy of A, since we're going to alter it's values.\n",
        "    # The zeroth column is easy, since it has no other vectors to make it normal to.\n",
        "    # All that needs to be done is to normalise it. I.e. divide by its modulus, or norm.\n",
        "    B[:, 0] = B[:, 0] / la.norm(B[:, 0])\n",
        "    # For the first column, we need to subtract any overlap with our new zeroth vector.\n",
        "    B[:, 1] = B[:, 1] - B[:, 1] @ B[:, 0] * B[:, 0]\n",
        "    # If there's anything left after that subtraction, then B[:, 1] is linearly independant of B[:, 0]\n",
        "    # If this is the case, we can normalise it. Otherwise we'll set that vector to zero.\n",
        "    if la.norm(B[:, 1]) > verySmallNumber :\n",
        "        B[:, 1] = B[:, 1] / la.norm(B[:, 1])\n",
        "    else :\n",
        "        B[:, 1] = np.zeros_like(B[:, 1])\n",
        "    # 接下來輪到你按照上面的方法來寫column 2.\n",
        "    # Insert two lines of code, the first to subtract the overlap with the zeroth vector,\n",
        "    # and the second to subtract the overlap with the first.\n",
        "    B[:, 2] = B[:, 2] - B[:, 2] @ B[:, 0] * B[:, 0]\n",
        "    B[:, 2] = B[:, 2] - B[:, 2] @ B[:, 1] * B[:, 1]\n",
        "\n",
        "    # Again we'll need to normalise our new vector.\n",
        "    # Copy and adapt the normalisation fragment from above to column 2.\n",
        "    if la.norm(B[:, 1]) > verySmallNumber :\n",
        "        B[:, 2] = B[:, 2] / la.norm(B[:, 2])\n",
        "    else :\n",
        "        B[:, 2] = np.zeros_like(B[:, 2])\n",
        "\n",
        "    # Finally, column three:\n",
        "    # Insert code to subtract the overlap with the first three vectors.\n",
        "    B[:, 3] = B[:, 3] - B[:, 3] @ B[:, 0] * B[:, 0]\n",
        "    B[:, 3] = B[:, 3] - B[:, 3] @ B[:, 1] * B[:, 1]\n",
        "    B[:, 3] = B[:, 3] - B[:, 3] @ B[:, 2] * B[:, 2]\n",
        "    \n",
        "    # Now normalise if possible\n",
        "    if la.norm(B[:, 1]) > verySmallNumber :\n",
        "        B[:, 3] = B[:, 3] / la.norm(B[:, 3])\n",
        "    else :\n",
        "        B[:, 3] = np.zeros_like(B[:, 3])\n",
        "\n",
        "    # Finally, we return the result:\n",
        "    return B\n",
        "\n",
        "# The second part of this exercise will generalise the procedure.\n",
        "# Previously, we could only have four vectors, and there was a lot of repeating in the code.\n",
        "# We'll use a for-loop here to iterate the process for each vector.\n",
        "def gsBasis(A) :\n",
        "    B = np.array(A, dtype=np.float_) # Make B as a copy of A, since we're going to alter it's values.\n",
        "    # Loop over all vectors, starting with zero, label them with i\n",
        "    for i in range(B.shape[1]) :\n",
        "        # Inside that loop, loop over all previous vectors, j, to subtract.\n",
        "        for j in range(i) :\n",
        "            # Complete the code to subtract the overlap with previous vectors.\n",
        "            # you'll need the current vector B[:, i] and a previous vector B[:, j]\n",
        "            B[:, i] = B[:, i] - B[:, i] @ B[:, j] * B[:, j]\n",
        "        # Next insert code to do the normalisation test for B[:, i]\n",
        "        if la.norm(B[:, i]) > verySmallNumber :\n",
        "            B[:, i] = B[:, i] / la.norm(B[:, i])  \n",
        "        else :\n",
        "            B[:, i] = np.zeros_like(B[:, i])\n",
        "                \n",
        "    # Finally, we return the result:\n",
        "    return B\n",
        "\n",
        "# This function uses the Gram-schmidt process to calculate the dimension\n",
        "# spanned by a list of vectors.\n",
        "# Since each vector is normalised to one, or is zero,\n",
        "# the sum of all the norms will be the dimension.\n",
        "def dimensions(A) :\n",
        "    return np.sum(la.norm(gsBasis(A), axis=0))\n"
      ]
    },
    {
      "cell_type": "markdown",
      "metadata": {
        "id": "izFJrZ2uK3XQ"
      },
      "source": [
        "## Test your code before submission\n"
      ]
    },
    {
      "cell_type": "code",
      "execution_count": 3,
      "metadata": {
        "id": "6NITrhPhK3XQ",
        "colab": {
          "base_uri": "https://localhost:8080/"
        },
        "outputId": "59bef4ee-e4cb-4a50-ee94-8bf759289206"
      },
      "outputs": [
        {
          "output_type": "execute_result",
          "data": {
            "text/plain": [
              "array([[ 0.40824829, -0.1814885 ,  0.04982278,  0.89325973],\n",
              "       [ 0.        ,  0.1088931 ,  0.99349591, -0.03328918],\n",
              "       [ 0.81649658,  0.50816781, -0.06462163, -0.26631346],\n",
              "       [ 0.40824829, -0.83484711,  0.07942048, -0.36063281]])"
            ]
          },
          "metadata": {},
          "execution_count": 3
        }
      ],
      "source": [
        "V = np.array([[1,0,2,6],\n",
        "              [0,1,8,2],\n",
        "              [2,8,3,1],\n",
        "              [1,-6,2,3]], dtype=np.float_)\n",
        "gsBasis4(V)"
      ]
    },
    {
      "cell_type": "code",
      "execution_count": 4,
      "metadata": {
        "id": "ptle3FgIK3XR",
        "colab": {
          "base_uri": "https://localhost:8080/"
        },
        "outputId": "fa8bce27-c293-482b-98d4-f11ee3b83482"
      },
      "outputs": [
        {
          "output_type": "execute_result",
          "data": {
            "text/plain": [
              "array([[ 0.40824829, -0.1814885 ,  0.04982278,  0.89325973],\n",
              "       [ 0.        ,  0.1088931 ,  0.99349591, -0.03328918],\n",
              "       [ 0.81649658,  0.50816781, -0.06462163, -0.26631346],\n",
              "       [ 0.40824829, -0.83484711,  0.07942048, -0.36063281]])"
            ]
          },
          "metadata": {},
          "execution_count": 4
        }
      ],
      "source": [
        "# Once you've done Gram-Schmidt once,\n",
        "# doing it again should give you the same result. Test this:\n",
        "U = gsBasis4(V)\n",
        "gsBasis4(U)"
      ]
    },
    {
      "cell_type": "code",
      "execution_count": 5,
      "metadata": {
        "id": "q-fJbJYbK3XR",
        "colab": {
          "base_uri": "https://localhost:8080/"
        },
        "outputId": "3b6cc494-a755-4259-e69b-04f85baf8b38"
      },
      "outputs": [
        {
          "output_type": "execute_result",
          "data": {
            "text/plain": [
              "array([[ 0.40824829, -0.1814885 ,  0.04982278,  0.89325973],\n",
              "       [ 0.        ,  0.1088931 ,  0.99349591, -0.03328918],\n",
              "       [ 0.81649658,  0.50816781, -0.06462163, -0.26631346],\n",
              "       [ 0.40824829, -0.83484711,  0.07942048, -0.36063281]])"
            ]
          },
          "metadata": {},
          "execution_count": 5
        }
      ],
      "source": [
        "# Try the general function too.\n",
        "gsBasis(V)"
      ]
    },
    {
      "cell_type": "code",
      "execution_count": 6,
      "metadata": {
        "id": "_urBhW8HK3XS",
        "colab": {
          "base_uri": "https://localhost:8080/"
        },
        "outputId": "abba59cc-1695-4719-f449-97d33f3ce7ba"
      },
      "outputs": [
        {
          "output_type": "execute_result",
          "data": {
            "text/plain": [
              "array([[ 0.23643312,  0.18771349,  0.22132104],\n",
              "       [ 0.15762208,  0.74769023, -0.64395812],\n",
              "       [ 0.15762208,  0.57790444,  0.72904263],\n",
              "       [ 0.94573249, -0.26786082, -0.06951101]])"
            ]
          },
          "metadata": {},
          "execution_count": 6
        }
      ],
      "source": [
        "# See what happens for non-square matrices\n",
        "A = np.array([[3,2,3],\n",
        "              [2,5,-1],\n",
        "              [2,4,8],\n",
        "              [12,2,1]], dtype=np.float_)\n",
        "gsBasis(A)"
      ]
    },
    {
      "cell_type": "code",
      "execution_count": 7,
      "metadata": {
        "id": "DJomQNdAK3XS",
        "colab": {
          "base_uri": "https://localhost:8080/"
        },
        "outputId": "145afa9c-55fe-4496-c26e-5c9d14fde2a9"
      },
      "outputs": [
        {
          "output_type": "execute_result",
          "data": {
            "text/plain": [
              "3.0"
            ]
          },
          "metadata": {},
          "execution_count": 7
        }
      ],
      "source": [
        "dimensions(A)"
      ]
    },
    {
      "cell_type": "code",
      "execution_count": 10,
      "metadata": {
        "id": "Do_BodTtK3XS",
        "colab": {
          "base_uri": "https://localhost:8080/"
        },
        "outputId": "75446eec-b6a1-4477-a868-cb9cc720ae63"
      },
      "outputs": [
        {
          "output_type": "execute_result",
          "data": {
            "text/plain": [
              "array([[ 0.93704257, -0.12700832, -0.32530002,  0.        ,  0.        ],\n",
              "       [ 0.31234752,  0.72140727,  0.61807005,  0.        ,  0.        ],\n",
              "       [ 0.15617376, -0.6807646 ,  0.71566005,  0.        ,  0.        ]])"
            ]
          },
          "metadata": {},
          "execution_count": 10
        }
      ],
      "source": [
        "B = np.array([[6,2,1,7,5],\n",
        "              [2,8,5,-4,1],\n",
        "              [1,-6,3,2,8]], dtype=np.float_)\n",
        "gsBasis(B)"
      ]
    },
    {
      "cell_type": "code",
      "execution_count": 11,
      "metadata": {
        "id": "nQYGQQavK3XS",
        "colab": {
          "base_uri": "https://localhost:8080/"
        },
        "outputId": "1964f2f1-4144-4be4-8da8-64019ba4d4dc"
      },
      "outputs": [
        {
          "output_type": "execute_result",
          "data": {
            "text/plain": [
              "3.0"
            ]
          },
          "metadata": {},
          "execution_count": 11
        }
      ],
      "source": [
        "dimensions(B)"
      ]
    },
    {
      "cell_type": "code",
      "execution_count": 12,
      "metadata": {
        "id": "f019cEdPK3XT",
        "colab": {
          "base_uri": "https://localhost:8080/"
        },
        "outputId": "d9639d32-066d-4d10-b122-4a91c2aba8c9"
      },
      "outputs": [
        {
          "output_type": "execute_result",
          "data": {
            "text/plain": [
              "array([[0.70710678, 0.        , 0.        ],\n",
              "       [0.        , 1.        , 0.        ],\n",
              "       [0.70710678, 0.        , 0.        ]])"
            ]
          },
          "metadata": {},
          "execution_count": 12
        }
      ],
      "source": [
        "# Now let's see what happens when we have one vector that is a linear combination of the others.\n",
        "C = np.array([[1,0,2],\n",
        "              [0,1,-3],\n",
        "              [1,0,2]], dtype=np.float_)\n",
        "gsBasis(C)"
      ]
    },
    {
      "cell_type": "code",
      "source": [
        ""
      ],
      "metadata": {
        "id": "8Oyi-iJy1DR9"
      },
      "execution_count": 12,
      "outputs": []
    },
    {
      "cell_type": "code",
      "execution_count": 13,
      "metadata": {
        "id": "Rqo5CDxWK3XT",
        "colab": {
          "base_uri": "https://localhost:8080/"
        },
        "outputId": "2809f86a-5548-4749-c897-45a0e48fee82"
      },
      "outputs": [
        {
          "output_type": "execute_result",
          "data": {
            "text/plain": [
              "2.0"
            ]
          },
          "metadata": {},
          "execution_count": 13
        }
      ],
      "source": [
        "dimensions(C)"
      ]
    },
    {
      "cell_type": "markdown",
      "metadata": {
        "id": "dx4nnWr3K3XT"
      },
      "source": [
        "### 結語\n",
        "1. 這兩個題目都是來自 Imperial College London 的線性代數課程，如果寫不出來也可以去網路上參考別人怎麼寫或者跟同學討論><\n",
        "2. 不論你最後怎麼寫出來的，只要學會怎麼寫就好。線性代數的programming在未來很常用到喔!\n",
        "3. 有任何問題都可以寄信問助教"
      ]
    },
    {
      "cell_type": "code",
      "execution_count": null,
      "metadata": {
        "id": "zLN6yuirK3XT"
      },
      "outputs": [],
      "source": [
        ""
      ]
    }
  ],
  "metadata": {
    "coursera": {
      "course_slug": "linear-algebra-machine-learning",
      "graded_item_id": "vhy4M",
      "launcher_item_id": "3vbW4"
    },
    "kernelspec": {
      "display_name": "Python 3",
      "language": "python",
      "name": "python3"
    },
    "language_info": {
      "codemirror_mode": {
        "name": "ipython",
        "version": 3
      },
      "file_extension": ".py",
      "mimetype": "text/x-python",
      "name": "python",
      "nbconvert_exporter": "python",
      "pygments_lexer": "ipython3",
      "version": "3.8.5"
    },
    "colab": {
      "name": "「 Linear algebra coding hw1 (1).ipynb」的副本",
      "provenance": [],
      "collapsed_sections": []
    }
  },
  "nbformat": 4,
  "nbformat_minor": 0
}